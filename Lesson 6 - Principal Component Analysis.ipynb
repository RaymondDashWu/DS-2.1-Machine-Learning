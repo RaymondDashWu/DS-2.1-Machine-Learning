{
 "cells": [
  {
   "cell_type": "code",
   "execution_count": 2,
   "metadata": {},
   "outputs": [],
   "source": [
    "import numpy as np\n",
    "import pandas as pd\n",
    "from sklearn.decomposition import PCA\n",
    "from sklearn import preprocessing\n",
    "import matplotlib.pyplot as plt"
   ]
  },
  {
   "cell_type": "code",
   "execution_count": 4,
   "metadata": {},
   "outputs": [],
   "source": [
    "df = pd.read_excel('/Users/raymondmbp/makeschool/DS-2.1-Machine-Learning/DS-2.1-Machine-Learning/Notebooks/Datasets/pca_uk.xlsx')"
   ]
  },
  {
   "cell_type": "code",
   "execution_count": 11,
   "metadata": {},
   "outputs": [
    {
     "data": {
      "text/html": [
       "<div>\n",
       "<style scoped>\n",
       "    .dataframe tbody tr th:only-of-type {\n",
       "        vertical-align: middle;\n",
       "    }\n",
       "\n",
       "    .dataframe tbody tr th {\n",
       "        vertical-align: top;\n",
       "    }\n",
       "\n",
       "    .dataframe thead th {\n",
       "        text-align: right;\n",
       "    }\n",
       "</style>\n",
       "<table border=\"1\" class=\"dataframe\">\n",
       "  <thead>\n",
       "    <tr style=\"text-align: right;\">\n",
       "      <th></th>\n",
       "      <th>England</th>\n",
       "      <th>N Ireland</th>\n",
       "      <th>Scotland</th>\n",
       "      <th>Wales</th>\n",
       "      <th>Features</th>\n",
       "    </tr>\n",
       "  </thead>\n",
       "  <tbody>\n",
       "    <tr>\n",
       "      <th>0</th>\n",
       "      <td>375</td>\n",
       "      <td>135</td>\n",
       "      <td>458</td>\n",
       "      <td>475</td>\n",
       "      <td>Alcoholic drinks</td>\n",
       "    </tr>\n",
       "    <tr>\n",
       "      <th>1</th>\n",
       "      <td>57</td>\n",
       "      <td>47</td>\n",
       "      <td>53</td>\n",
       "      <td>73</td>\n",
       "      <td>Beverages</td>\n",
       "    </tr>\n",
       "    <tr>\n",
       "      <th>2</th>\n",
       "      <td>245</td>\n",
       "      <td>267</td>\n",
       "      <td>242</td>\n",
       "      <td>227</td>\n",
       "      <td>Carcase meat</td>\n",
       "    </tr>\n",
       "    <tr>\n",
       "      <th>3</th>\n",
       "      <td>1472</td>\n",
       "      <td>1494</td>\n",
       "      <td>1462</td>\n",
       "      <td>1582</td>\n",
       "      <td>Cereals</td>\n",
       "    </tr>\n",
       "    <tr>\n",
       "      <th>4</th>\n",
       "      <td>105</td>\n",
       "      <td>66</td>\n",
       "      <td>103</td>\n",
       "      <td>103</td>\n",
       "      <td>Cheese</td>\n",
       "    </tr>\n",
       "    <tr>\n",
       "      <th>5</th>\n",
       "      <td>54</td>\n",
       "      <td>41</td>\n",
       "      <td>62</td>\n",
       "      <td>64</td>\n",
       "      <td>Confectionery</td>\n",
       "    </tr>\n",
       "    <tr>\n",
       "      <th>6</th>\n",
       "      <td>193</td>\n",
       "      <td>209</td>\n",
       "      <td>184</td>\n",
       "      <td>235</td>\n",
       "      <td>Fats and oils</td>\n",
       "    </tr>\n",
       "    <tr>\n",
       "      <th>7</th>\n",
       "      <td>147</td>\n",
       "      <td>93</td>\n",
       "      <td>122</td>\n",
       "      <td>160</td>\n",
       "      <td>Fish</td>\n",
       "    </tr>\n",
       "    <tr>\n",
       "      <th>8</th>\n",
       "      <td>1102</td>\n",
       "      <td>674</td>\n",
       "      <td>957</td>\n",
       "      <td>1137</td>\n",
       "      <td>Fresh fruit</td>\n",
       "    </tr>\n",
       "    <tr>\n",
       "      <th>9</th>\n",
       "      <td>720</td>\n",
       "      <td>1033</td>\n",
       "      <td>566</td>\n",
       "      <td>874</td>\n",
       "      <td>Fresh potatoes</td>\n",
       "    </tr>\n",
       "    <tr>\n",
       "      <th>10</th>\n",
       "      <td>253</td>\n",
       "      <td>143</td>\n",
       "      <td>171</td>\n",
       "      <td>265</td>\n",
       "      <td>Fresh Veg</td>\n",
       "    </tr>\n",
       "    <tr>\n",
       "      <th>11</th>\n",
       "      <td>685</td>\n",
       "      <td>586</td>\n",
       "      <td>750</td>\n",
       "      <td>803</td>\n",
       "      <td>Other meat</td>\n",
       "    </tr>\n",
       "    <tr>\n",
       "      <th>12</th>\n",
       "      <td>488</td>\n",
       "      <td>355</td>\n",
       "      <td>418</td>\n",
       "      <td>570</td>\n",
       "      <td>Other Veg</td>\n",
       "    </tr>\n",
       "    <tr>\n",
       "      <th>13</th>\n",
       "      <td>198</td>\n",
       "      <td>187</td>\n",
       "      <td>220</td>\n",
       "      <td>203</td>\n",
       "      <td>Processed potatoes</td>\n",
       "    </tr>\n",
       "    <tr>\n",
       "      <th>14</th>\n",
       "      <td>360</td>\n",
       "      <td>334</td>\n",
       "      <td>337</td>\n",
       "      <td>365</td>\n",
       "      <td>Processed Veg</td>\n",
       "    </tr>\n",
       "    <tr>\n",
       "      <th>15</th>\n",
       "      <td>1374</td>\n",
       "      <td>1506</td>\n",
       "      <td>1572</td>\n",
       "      <td>1256</td>\n",
       "      <td>Soft drinks</td>\n",
       "    </tr>\n",
       "    <tr>\n",
       "      <th>16</th>\n",
       "      <td>156</td>\n",
       "      <td>139</td>\n",
       "      <td>147</td>\n",
       "      <td>175</td>\n",
       "      <td>Sugars</td>\n",
       "    </tr>\n",
       "  </tbody>\n",
       "</table>\n",
       "</div>"
      ],
      "text/plain": [
       "    England  N Ireland  Scotland  Wales            Features\n",
       "0       375        135       458    475    Alcoholic drinks\n",
       "1        57         47        53     73           Beverages\n",
       "2       245        267       242    227        Carcase meat\n",
       "3      1472       1494      1462   1582             Cereals\n",
       "4       105         66       103    103              Cheese\n",
       "5        54         41        62     64       Confectionery\n",
       "6       193        209       184    235       Fats and oils\n",
       "7       147         93       122    160                Fish\n",
       "8      1102        674       957   1137         Fresh fruit\n",
       "9       720       1033       566    874      Fresh potatoes\n",
       "10      253        143       171    265           Fresh Veg\n",
       "11      685        586       750    803          Other meat\n",
       "12      488        355       418    570           Other Veg\n",
       "13      198        187       220    203  Processed potatoes\n",
       "14      360        334       337    365       Processed Veg\n",
       "15     1374       1506      1572   1256         Soft drinks\n",
       "16      156        139       147    175              Sugars"
      ]
     },
     "execution_count": 11,
     "metadata": {},
     "output_type": "execute_result"
    }
   ],
   "source": [
    "df.head(20)"
   ]
  },
  {
   "cell_type": "code",
   "execution_count": 9,
   "metadata": {},
   "outputs": [
    {
     "data": {
      "text/plain": [
       "(array([[ 375,   57,  245, 1472,  105,   54,  193,  147, 1102,  720,  253,\n",
       "          685,  488,  198,  360, 1374,  156],\n",
       "        [ 135,   47,  267, 1494,   66,   41,  209,   93,  674, 1033,  143,\n",
       "          586,  355,  187,  334, 1506,  139],\n",
       "        [ 458,   53,  242, 1462,  103,   62,  184,  122,  957,  566,  171,\n",
       "          750,  418,  220,  337, 1572,  147],\n",
       "        [ 475,   73,  227, 1582,  103,   64,  235,  160, 1137,  874,  265,\n",
       "          803,  570,  203,  365, 1256,  175]]), (4, 17))"
      ]
     },
     "execution_count": 9,
     "metadata": {},
     "output_type": "execute_result"
    }
   ],
   "source": [
    "X = np.array([df[i].values for i in df.columns if i != 'Features'])\n",
    "X, X.shape"
   ]
  },
  {
   "cell_type": "code",
   "execution_count": 44,
   "metadata": {},
   "outputs": [
    {
     "data": {
      "text/plain": [
       "array([[-144.99315218,   -2.53299944],\n",
       "       [ 477.39163882,  -58.90186182],\n",
       "       [ -91.869339  ,  286.08178613],\n",
       "       [-240.52914764, -224.64692488]])"
      ]
     },
     "execution_count": 44,
     "metadata": {},
     "output_type": "execute_result"
    }
   ],
   "source": [
    "pca = PCA(n_components = 2)\n",
    "X_r = pca.fit_transform(X)\n",
    "X_r"
   ]
  },
  {
   "cell_type": "code",
   "execution_count": 45,
   "metadata": {},
   "outputs": [
    {
     "data": {
      "text/plain": [
       "Index(['England', 'N Ireland', 'Scotland', 'Wales', 'Features'], dtype='object')"
      ]
     },
     "execution_count": 45,
     "metadata": {},
     "output_type": "execute_result"
    }
   ],
   "source": [
    "df.columns"
   ]
  },
  {
   "cell_type": "code",
   "execution_count": 46,
   "metadata": {
    "scrolled": true
   },
   "outputs": [
    {
     "data": {
      "image/png": "[encoded data removed]",
      "text/plain": [
       "<Figure size 432x288 with 1 Axes>"
      ]
     },
     "metadata": {},
     "output_type": "display_data"
    }
   ],
   "source": [
    "import seaborn as sns\n",
    "\n",
    "for k, (i,j) in enumerate(zip(X_r[:, 0], X_r[:, 1])):\n",
    "    plt.scatter(i, j)\n",
    "    plt.text(i + 10, j + 10, df.columns[:-1][k])"
   ]
  },
  {
   "cell_type": "code",
   "execution_count": 47,
   "metadata": {},
   "outputs": [
    {
     "data": {
      "text/plain": [
       "(array([105073.34576714,  45261.62487597]),\n",
       " array([0.67444346, 0.29052475]),\n",
       " 0.9649682097346035)"
      ]
     },
     "execution_count": 47,
     "metadata": {},
     "output_type": "execute_result"
    }
   ],
   "source": [
    "pca.explained_variance_, pca.explained_variance_ratio_, pca.explained_variance_ratio_.sum()"
   ]
  },
  {
   "cell_type": "code",
   "execution_count": null,
   "metadata": {
    "scrolled": true
   },
   "outputs": [],
   "source": [
    "# Don't need to do data normalization after PCA. PCA also removes correlations among features"
   ]
  },
  {
   "cell_type": "code",
   "execution_count": 50,
   "metadata": {},
   "outputs": [
    {
     "data": {
      "text/plain": [
       "array([ 6, 23])"
      ]
     },
     "execution_count": 50,
     "metadata": {},
     "output_type": "execute_result"
    }
   ],
   "source": [
    "A = np.array([[2, 0], [1, 5]])\n",
    "v = np.array([3, 4])\n",
    "\n",
    "np.dot(A, v)"
   ]
  },
  {
   "cell_type": "code",
   "execution_count": 51,
   "metadata": {},
   "outputs": [
    {
     "data": {
      "text/plain": [
       "(array([5., 2.]), array([[ 0.        ,  0.9486833 ],\n",
       "        [ 1.        , -0.31622777]]))"
      ]
     },
     "execution_count": 51,
     "metadata": {},
     "output_type": "execute_result"
    }
   ],
   "source": [
    "eig_value, eig_vector = np.linalg.eig(A)\n",
    "\n",
    "eig_value, eig_vector"
   ]
  },
  {
   "cell_type": "code",
   "execution_count": 52,
   "metadata": {},
   "outputs": [],
   "source": [
    "np.linalg.eig??"
   ]
  },
  {
   "cell_type": "code",
   "execution_count": null,
   "metadata": {},
   "outputs": [],
   "source": [
    "np.dog(A, eig_vector[:, 0])"
   ]
  }
 ],
 "metadata": {
  "kernelspec": {
   "display_name": "Python 3",
   "language": "python",
   "name": "python3"
  },
  "language_info": {
   "codemirror_mode": {
    "name": "ipython",
    "version": 3
   },
   "file_extension": ".py",
   "mimetype": "text/x-python",
   "name": "python",
   "nbconvert_exporter": "python",
   "pygments_lexer": "ipython3",
   "version": "3.6.8"
  }
 },
 "nbformat": 4,
 "nbformat_minor": 2
}
